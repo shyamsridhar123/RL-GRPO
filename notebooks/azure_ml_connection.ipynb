{
 "cells": [
  {
   "cell_type": "markdown",
   "id": "77e62b7f",
   "metadata": {},
   "source": [
    "# Azure ML Connection - Simple Setup\n",
    "\n",
    "This notebook provides a straightforward way to connect to Azure ML without dealing with CLI issues. We'll use browser-based authentication which is more reliable."
   ]
  },
  {
   "cell_type": "markdown",
   "id": "a6e33a51",
   "metadata": {},
   "source": [
    "## Step 1: Install Required Packages\n",
    "\n",
    "First, let's make sure we have the Azure ML SDK installed:"
   ]
  },
  {
   "cell_type": "code",
   "execution_count": 1,
   "id": "4cb72a3e",
   "metadata": {},
   "outputs": [
    {
     "name": "stdout",
     "output_type": "stream",
     "text": [
      "\u001b[31mERROR: pip's dependency resolver does not currently take into account all the packages that are installed. This behaviour is the source of the following dependency conflicts.\n",
      "mlflow-skinny 2.21.3 requires packaging<25, but you have packaging 25.0 which is incompatible.\n",
      "jupyterlab-nvdashboard 0.13.0 requires jupyterlab>=4, but you have jupyterlab 3.6.8 which is incompatible.\n",
      "jupyter-resource-usage 0.7.2 requires psutil~=5.6, but you have psutil 7.0.0 which is incompatible.\n",
      "dask-sql 2024.5.0 requires dask[dataframe]>=2024.4.1, but you have dask 2023.2.0 which is incompatible.\n",
      "dask-sql 2024.5.0 requires distributed>=2024.4.1, but you have distributed 2023.2.0 which is incompatible.\n",
      "azureml-training-tabular 1.60.0 requires psutil<5.9.4,>=5.2.2, but you have psutil 7.0.0 which is incompatible.\n",
      "azureml-training-tabular 1.60.0 requires scipy<1.11.0,>=1.0.0, but you have scipy 1.11.0 which is incompatible.\n",
      "azureml-mlflow 1.60.0 requires azure-storage-blob<=12.19.0,>=12.5.0, but you have azure-storage-blob 12.25.1 which is incompatible.\n",
      "azureml-automl-runtime 1.60.0 requires psutil<5.9.4,>=5.2.2, but you have psutil 7.0.0 which is incompatible.\n",
      "azureml-automl-dnn-nlp 1.60.0 requires torch==2.2.2, but you have torch 2.6.0 which is incompatible.\u001b[0m\u001b[31m\n",
      "\u001b[0m✅ Azure ML packages installed!\n",
      "✅ Azure ML packages installed!\n"
     ]
    }
   ],
   "source": [
    "# Install Azure ML SDK packages\n",
    "!pip install azure-ai-ml azure-identity --quiet\n",
    "\n",
    "print(\"✅ Azure ML packages installed!\")"
   ]
  },
  {
   "cell_type": "markdown",
   "id": "6d2c305d",
   "metadata": {},
   "source": [
    "## Step 2: Set Your Azure ML Workspace Details\n",
    "\n",
    "**Replace these values with your actual Azure ML workspace details:**\n",
    "\n",
    "You can find these in the Azure Portal:\n",
    "1. Go to [Azure Portal](https://portal.azure.com)\n",
    "2. Navigate to your Azure Machine Learning workspace\n",
    "3. Copy the Subscription ID, Resource Group, and Workspace Name from the Overview page"
   ]
  },
  {
   "cell_type": "code",
   "execution_count": null,
   "id": "5afceeb1",
   "metadata": {},
   "outputs": [],
   "source": [
    "# 🔧 CONFIGURE THESE VALUES FOR YOUR WORKSPACE\n",
    "SUBSCRIPTION_ID = \"your-subscription-id-here\"  # Replace with your subscription ID\n",
    "RESOURCE_GROUP = \"your-resource-group-here\"   # Replace with your resource group\n",
    "WORKSPACE_NAME = \"your-workspace-name-here\"   # Replace with your workspace name\n",
    "\n",
    "print(f\"Workspace Configuration:\")\n",
    "print(f\"  Subscription: {SUBSCRIPTION_ID}\")\n",
    "print(f\"  Resource Group: {RESOURCE_GROUP}\")\n",
    "print(f\"  Workspace: {WORKSPACE_NAME}\")\n",
    "\n",
    "# Validate that values were changed\n",
    "if \"your-\" in SUBSCRIPTION_ID or \"your-\" in RESOURCE_GROUP or \"your-\" in WORKSPACE_NAME:\n",
    "    print(\"\\n⚠️  Please update the values above with your actual Azure ML workspace details!\")\n",
    "else:\n",
    "    print(\"\\n✅ Configuration looks good!\")"
   ]
  },
  {
   "cell_type": "markdown",
   "id": "2927acfd",
   "metadata": {},
   "source": [
    "## Step 3: Connect to Azure ML\n",
    "\n",
    "This will open a browser window for you to authenticate with Azure:"
   ]
  },
  {
   "cell_type": "code",
   "execution_count": null,
   "id": "2c3c86d9",
   "metadata": {},
   "outputs": [],
   "source": [
    "from azure.ai.ml import MLClient\n",
    "from azure.identity import InteractiveBrowserCredential\n",
    "\n",
    "print(\"🔐 Starting Azure authentication...\")\n",
    "print(\"   A browser window will open for you to sign in\")\n",
    "\n",
    "try:\n",
    "    # Use interactive browser credential (most reliable)\n",
    "    credential = InteractiveBrowserCredential()\n",
    "    \n",
    "    # Create ML client\n",
    "    ml_client = MLClient(\n",
    "        credential=credential,\n",
    "        subscription_id=SUBSCRIPTION_ID,\n",
    "        resource_group_name=RESOURCE_GROUP,\n",
    "        workspace_name=WORKSPACE_NAME\n",
    "    )\n",
    "    \n",
    "    # Test the connection\n",
    "    workspace = ml_client.workspaces.get(WORKSPACE_NAME)\n",
    "    \n",
    "    print(\"\\n🎉 Successfully connected to Azure ML!\")\n",
    "    print(f\"   Workspace: {workspace.name}\")\n",
    "    print(f\"   Location: {workspace.location}\")\n",
    "    print(f\"   Resource Group: {workspace.resource_group}\")\n",
    "    \n",
    "except Exception as e:\n",
    "    print(f\"\\n❌ Connection failed: {e}\")\n",
    "    print(\"\\n💡 Make sure you:\")\n",
    "    print(\"   1. Updated the workspace details in the cell above\")\n",
    "    print(\"   2. Have access to the Azure ML workspace\")\n",
    "    print(\"   3. Completed the browser authentication\")"
   ]
  },
  {
   "cell_type": "markdown",
   "id": "ac71d2ce",
   "metadata": {},
   "source": [
    "## Step 4: List Your Compute Instances\n",
    "\n",
    "Let's see what compute resources are available in your workspace:"
   ]
  },
  {
   "cell_type": "code",
   "execution_count": null,
   "id": "57cbf616",
   "metadata": {},
   "outputs": [],
   "source": [
    "print(\"🖥️  Listing compute resources...\\n\")\n",
    "\n",
    "try:\n",
    "    computes = list(ml_client.compute.list())\n",
    "    \n",
    "    if not computes:\n",
    "        print(\"❌ No compute resources found\")\n",
    "        print(\"💡 You can create a compute instance in Azure ML Studio\")\n",
    "    else:\n",
    "        print(f\"✅ Found {len(computes)} compute resources:\\n\")\n",
    "        \n",
    "        compute_instances = []\n",
    "        \n",
    "        for i, compute in enumerate(computes, 1):\n",
    "            compute_type = getattr(compute, 'type', 'Unknown')\n",
    "            status = getattr(compute, 'provisioning_state', 'Unknown')\n",
    "            \n",
    "            print(f\"{i}. {compute.name}\")\n",
    "            print(f\"   Type: {compute_type}\")\n",
    "            print(f\"   Status: {status}\")\n",
    "            \n",
    "            if hasattr(compute, 'size'):\n",
    "                print(f\"   VM Size: {compute.size}\")\n",
    "            \n",
    "            if compute_type == 'ComputeInstance':\n",
    "                compute_instances.append(compute)\n",
    "                \n",
    "                if hasattr(compute, 'state'):\n",
    "                    state = compute.state\n",
    "                    print(f\"   State: {state}\")\n",
    "                    \n",
    "                    if state == 'Running':\n",
    "                        print(f\"   🟢 READY TO USE!\")\n",
    "                    elif state == 'Stopped':\n",
    "                        print(f\"   🔴 STOPPED (can be started)\")\n",
    "                    else:\n",
    "                        print(f\"   🟡 {state}\")\n",
    "            \n",
    "            print()\n",
    "        \n",
    "        # Store compute instances for later use\n",
    "        globals()['compute_instances'] = compute_instances\n",
    "        \n",
    "        if compute_instances:\n",
    "            print(f\"📊 Summary: {len(compute_instances)} compute instance(s) available\")\n",
    "        \n",
    "except Exception as e:\n",
    "    print(f\"❌ Failed to list compute resources: {e}\")"
   ]
  },
  {
   "cell_type": "markdown",
   "id": "0f7dcad9",
   "metadata": {},
   "source": [
    "## Step 5: Connect to a Specific Compute Instance\n",
    "\n",
    "Choose a compute instance to connect to:"
   ]
  },
  {
   "cell_type": "code",
   "execution_count": null,
   "id": "8e7831a4",
   "metadata": {},
   "outputs": [],
   "source": [
    "# 🔧 SPECIFY YOUR COMPUTE INSTANCE NAME\n",
    "COMPUTE_NAME = \"your-compute-instance-name\"  # Replace with your compute instance name\n",
    "\n",
    "print(f\"🔗 Connecting to compute instance: {COMPUTE_NAME}\")\n",
    "\n",
    "try:\n",
    "    compute = ml_client.compute.get(COMPUTE_NAME)\n",
    "    \n",
    "    print(f\"\\n✅ Found compute instance: {compute.name}\")\n",
    "    print(f\"   Type: {compute.type}\")\n",
    "    print(f\"   Status: {getattr(compute, 'provisioning_state', 'Unknown')}\")\n",
    "    \n",
    "    if hasattr(compute, 'state'):\n",
    "        state = compute.state\n",
    "        print(f\"   State: {state}\")\n",
    "        \n",
    "        if state == 'Running':\n",
    "            print(f\"\\n🎉 Compute instance is RUNNING and ready to use!\")\n",
    "            \n",
    "            # Show available applications\n",
    "            if hasattr(compute, 'applications') and compute.applications:\n",
    "                print(f\"\\n📋 Available applications:\")\n",
    "                for app in compute.applications:\n",
    "                    print(f\"   - {app.display_name}: {app.endpoint_uri}\")\n",
    "            \n",
    "            print(f\"\\n✅ You can now submit jobs to this compute instance!\")\n",
    "            \n",
    "        elif state == 'Stopped':\n",
    "            print(f\"\\n⚠️  Compute instance is STOPPED\")\n",
    "            print(f\"💡 Start it from Azure ML Studio or run the next cell\")\n",
    "        else:\n",
    "            print(f\"\\n⚠️  Compute instance state: {state}\")\n",
    "    \n",
    "    # Store for later use\n",
    "    globals()['selected_compute'] = compute\n",
    "    \n",
    "except Exception as e:\n",
    "    print(f\"\\n❌ Failed to connect to compute '{COMPUTE_NAME}': {e}\")\n",
    "    print(f\"\\n💡 Make sure:\")\n",
    "    print(f\"   1. The compute name is correct\")\n",
    "    print(f\"   2. The compute exists in your workspace\")\n",
    "    print(f\"   3. You have access permissions\")"
   ]
  },
  {
   "cell_type": "markdown",
   "id": "a68ad9cc",
   "metadata": {},
   "source": [
    "## Step 6: Start Compute Instance (if stopped)\n",
    "\n",
    "If your compute instance is stopped, you can start it with this cell:"
   ]
  },
  {
   "cell_type": "code",
   "execution_count": null,
   "id": "8a7393de",
   "metadata": {},
   "outputs": [],
   "source": [
    "# Only run this if your compute instance is stopped\n",
    "try:\n",
    "    if 'selected_compute' in globals():\n",
    "        compute_name = selected_compute.name\n",
    "        \n",
    "        print(f\"🚀 Starting compute instance: {compute_name}\")\n",
    "        print(\"   This may take a few minutes...\")\n",
    "        \n",
    "        # Start the compute instance\n",
    "        ml_client.compute.begin_start(compute_name).result()\n",
    "        \n",
    "        print(f\"\\n✅ Compute instance {compute_name} is starting!\")\n",
    "        print(f\"💡 Check the status in Azure ML Studio\")\n",
    "        \n",
    "    else:\n",
    "        print(\"❌ No compute instance selected. Run the previous cell first.\")\n",
    "        \n",
    "except Exception as e:\n",
    "    print(f\"❌ Failed to start compute instance: {e}\")"
   ]
  },
  {
   "cell_type": "markdown",
   "id": "ed57996d",
   "metadata": {},
   "source": [
    "## Step 7: Test Job Submission\n",
    "\n",
    "Let's test if we can submit a simple job to your compute:"
   ]
  },
  {
   "cell_type": "code",
   "execution_count": null,
   "id": "a5ef096a",
   "metadata": {},
   "outputs": [],
   "source": [
    "from azure.ai.ml import command\n",
    "\n",
    "print(f\"🧪 Testing job submission capability...\")\n",
    "\n",
    "try:\n",
    "    # Create a simple test job\n",
    "    job = command(\n",
    "        code=\"../notebooks\",  # Use the notebooks directory\n",
    "        command=\"python test_compute.py\",\n",
    "        environment=\"AzureML-sklearn-1.0-ubuntu20.04-py38-cpu@latest\",\n",
    "        compute=COMPUTE_NAME,\n",
    "        display_name=\"connectivity-test\"\n",
    "    )\n",
    "    \n",
    "    print(f\"✅ Job configuration is valid!\")\n",
    "    print(f\"💡 You can submit training jobs to compute '{COMPUTE_NAME}'\")\n",
    "    \n",
    "    # Uncomment the next line to actually submit the test job\n",
    "    # submitted_job = ml_client.jobs.create_or_update(job)\n",
    "    # print(f\"🚀 Test job submitted: {submitted_job.name}\")\n",
    "    \n",
    "except Exception as e:\n",
    "    print(f\"❌ Job configuration test failed: {e}\")\n",
    "    print(f\"💡 This might be due to environment or compute issues\")"
   ]
  },
  {
   "cell_type": "markdown",
   "id": "d6c27351",
   "metadata": {},
   "source": [
    "## Step 8: Save Configuration\n",
    "\n",
    "Save your connection details for future use:"
   ]
  },
  {
   "cell_type": "code",
   "execution_count": null,
   "id": "26686a3c",
   "metadata": {},
   "outputs": [],
   "source": [
    "import json\n",
    "import os\n",
    "\n",
    "# Save configuration\n",
    "config = {\n",
    "    'subscription_id': SUBSCRIPTION_ID,\n",
    "    'resource_group': RESOURCE_GROUP,\n",
    "    'workspace_name': WORKSPACE_NAME,\n",
    "    'compute_name': COMPUTE_NAME,\n",
    "    'connection_tested': True\n",
    "}\n",
    "\n",
    "config_file = '../azure_ml_config.json'\n",
    "with open(config_file, 'w') as f:\n",
    "    json.dump(config, f, indent=2)\n",
    "\n",
    "print(f\"💾 Configuration saved to: {os.path.abspath(config_file)}\")\n",
    "print(f\"✅ Azure ML connection setup complete!\")\n",
    "\n",
    "print(f\"\\n📋 Summary:\")\n",
    "print(f\"   Workspace: {WORKSPACE_NAME}\")\n",
    "print(f\"   Compute: {COMPUTE_NAME}\")\n",
    "print(f\"   Status: Connected ✅\")\n",
    "\n",
    "print(f\"\\n🚀 You're now ready to:\")\n",
    "print(f\"   - Submit training jobs to Azure ML\")\n",
    "print(f\"   - Use your compute instance for ML workloads\")\n",
    "print(f\"   - Run the GRPO training scripts\")"
   ]
  }
 ],
 "metadata": {
  "kernelspec": {
   "display_name": "Python 3 (ipykernel)",
   "language": "python",
   "name": "python3"
  },
  "language_info": {
   "codemirror_mode": {
    "name": "ipython",
    "version": 3
   },
   "file_extension": ".py",
   "mimetype": "text/x-python",
   "name": "python",
   "nbconvert_exporter": "python",
   "pygments_lexer": "ipython3",
   "version": "3.10.16"
  }
 },
 "nbformat": 4,
 "nbformat_minor": 5
}
